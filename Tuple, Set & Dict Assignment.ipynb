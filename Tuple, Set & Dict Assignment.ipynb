{
 "cells": [
  {
   "cell_type": "markdown",
   "id": "be96adf2-62b6-49f7-9a58-cc48a382413c",
   "metadata": {},
   "source": [
    "Q1. What are the characteristics of the tuples? Is tuple immutable?"
   ]
  },
  {
   "cell_type": "markdown",
   "id": "e48f11e8-e913-4c61-9227-e7648e220245",
   "metadata": {},
   "source": [
    "Characteristics of Tuples:\n",
    "    1. Denoted by round brackets\n",
    "    2. Tuple uses the concept of indexation\n",
    "    3. Tuples are Immutable.\n",
    "    4. Only have 2 inbuild functions (Count and Index)\n",
    "    5. Tuples are intended to store a collection of values that do not need to be changed."
   ]
  },
  {
   "cell_type": "markdown",
   "id": "c4c8a866-0207-4675-9ec8-791fe4b595be",
   "metadata": {},
   "source": [
    "Tuples are immutable"
   ]
  },
  {
   "cell_type": "markdown",
   "id": "c33b6973-e41d-4737-bdb0-e7c6a4e3954e",
   "metadata": {},
   "source": [
    "Q2. What are the two tuple methods in python? Give an example of each method. Give a reason why\n",
    "tuples have only two in-built methods as compared to Lists."
   ]
  },
  {
   "cell_type": "markdown",
   "id": "0e6c5ea2-1811-4c93-baf2-577e370210d4",
   "metadata": {},
   "source": [
    "Index and Count\n",
    "t1=(1,2,3,4,5,6)\n",
    "t1.count(2) ; Output : 1 //Count will output the number of occurance of the argument passed\n",
    "t1.index(3); Output : 2 //Index will output the index value of the argument in the tuple\n",
    "\n",
    "Tuples in Python have only two built-in methods, count and index, because tuples are designed to be lightweight and immutable. They are intended to store a collection of values that do not need to be changed, and the two methods provided are enough for most use cases.\n",
    "count is used to count the number of occurrences of an element in the tuple, and index is used to find the first index of an element in the tuple."
   ]
  },
  {
   "cell_type": "markdown",
   "id": "2ee50e2a-a826-488c-bcb4-8ea2829cce0d",
   "metadata": {},
   "source": [
    "Q3. Which collection datatypes in python do not allow duplicate items? Write a code using a set to remove\n",
    "duplicates from the given list.\n",
    "List = [1, 1, 1, 2, 1, 3, 1, 4, 2, 1, 2, 2, 2, 3, 2, 4, 3, 1, 3, 2, 3, 3, 3, 4, 4, 1, 4, 2, 4, 3, 4, 4]"
   ]
  },
  {
   "cell_type": "markdown",
   "id": "860ffbfa-94d2-4c87-99e9-bc40a11f575d",
   "metadata": {},
   "source": [
    "Sets doesn't allow duplicates.\n",
    "\n",
    "set(List) //Converting the list to set will remove all the duplicates."
   ]
  },
  {
   "cell_type": "markdown",
   "id": "25787757-4a48-493c-9a1c-d464bb5a294d",
   "metadata": {},
   "source": [
    "Q4. Explain the difference between the union() and update() methods for a set. Give an example of\n",
    "each method.\n"
   ]
  },
  {
   "cell_type": "markdown",
   "id": "c8527826-19e1-4c2b-9bb8-7cf3936ab049",
   "metadata": {},
   "source": [
    "Union function returns a new set that contains all the elements of both sets without duplicates.\n",
    "s1 = {1, 2, 3}\n",
    "s2 = {3, 4, 5}\n",
    "s1.union(s2)\n",
    "Output: {1,2,3,4,5}\n",
    "Update function add all the elements of one set to another. It modifies the original set by adding all the elements of other set.\n",
    "s1.update(s2)\n",
    "Output: {1,2,3,4,5}"
   ]
  },
  {
   "cell_type": "markdown",
   "id": "494022a3-0958-4405-9b0a-8903d80288f4",
   "metadata": {},
   "source": [
    "Q5. What is a dictionary? Give an example. Also, state whether a dictionary is ordered or unordered.\n"
   ]
  },
  {
   "cell_type": "markdown",
   "id": "34b5177b-0e94-43b1-b4aa-f04ca8b4ebce",
   "metadata": {},
   "source": [
    "A dictionary in Python is an unordered collection of key-value pairs, where each key is unique. A dictionary is defined using curly braces {} with key-value pairs separated by colons :. \n",
    "person = {'name': 'Rohit Goyal', 'age': 30, 'country': 'India'}\n",
    "//Output {'name': 'Rohit Goyal', 'age': 30, 'country': 'India'}\n",
    "Disctionary is unordered."
   ]
  },
  {
   "cell_type": "markdown",
   "id": "82d68f53-3a54-435b-89d8-8cbba89f39d4",
   "metadata": {},
   "source": [
    "Q6. Can we create a nested dictionary? If so, please give an example by creating a simple one-level\n",
    "nested dictionary.\n"
   ]
  },
  {
   "cell_type": "markdown",
   "id": "fc4b971a-4a79-4c8c-ab3a-5be38800e248",
   "metadata": {},
   "source": [
    "Yes we can create a nested Dictionary\n",
    "person = {'name': 'Rohit Goyal', 'age': 30, 'country': 'India','Skills':{'SQL':'High', 'Python':'Good', 'Java':'Low'}}\n",
    "\n",
    "//Output {'name': 'Rohit Goyal',\n",
    " 'age': 30,\n",
    " 'country': 'India',\n",
    " 'Skills': {'SQL': 'High', 'Python': 'Good', 'Java': 'Low'}}"
   ]
  },
  {
   "cell_type": "markdown",
   "id": "ace6fc60-48b2-4e75-b407-80ee88f37eba",
   "metadata": {},
   "source": [
    "Q7. Using setdefault() method, create key named topics in the given dictionary and also add the value of\n",
    "the key as this list ['Python', 'Machine Learning’, 'Deep Learning']\n",
    "dict1 = {'language' : 'Python', 'course': 'Data Science Masters'}\n"
   ]
  },
  {
   "cell_type": "markdown",
   "id": "4a56ab80-52df-4331-897b-e1e07c7197a6",
   "metadata": {},
   "source": [
    "dict1 = {'language' : 'Python', 'course': 'Data Science Masters'}\n",
    "dict2= dict1.setdefault('Topics',['Python', 'Machine Learning', 'Deep Learning'])\n",
    "dict1\n",
    "\n",
    "//Output\n",
    "{'language': 'Python',\n",
    " 'course': 'Data Science Masters',\n",
    " 'Topics': ['Python', 'Machine Learning', 'Deep Learning']}"
   ]
  },
  {
   "cell_type": "markdown",
   "id": "26857207-2221-43a5-8377-0e7609c475dc",
   "metadata": {},
   "source": [
    "Q8. What are the three view objects in dictionaries? Use the three in-built methods in python to display\n",
    "these three view objects for the given dictionary.\n",
    "dict1 = {'Sport': 'Cricket' , 'Teams': ['India', 'Australia', 'England', 'South Africa', 'Sri Lanka', 'New Zealand']}"
   ]
  },
  {
   "cell_type": "markdown",
   "id": "30cd9461-c1e5-4c30-ab12-6e705fbe1c75",
   "metadata": {},
   "source": [
    "In Python, dictionaries have three view objects that provide different views of the underlying data: keys(), values(), and items()."
   ]
  },
  {
   "cell_type": "code",
   "execution_count": 18,
   "id": "a57bf392-44af-4367-9231-8e149173bddd",
   "metadata": {
    "tags": []
   },
   "outputs": [],
   "source": [
    "dict1 = {'Sport': 'Cricket' , 'Teams': ['India', 'Australia', 'England', 'South Africa', 'Sri Lanka', 'New Zealand']}"
   ]
  },
  {
   "cell_type": "code",
   "execution_count": 19,
   "id": "f70462e6-e439-4e16-a371-a8240434b092",
   "metadata": {
    "tags": []
   },
   "outputs": [
    {
     "data": {
      "text/plain": [
       "dict_keys(['Sport', 'Teams'])"
      ]
     },
     "execution_count": 19,
     "metadata": {},
     "output_type": "execute_result"
    }
   ],
   "source": [
    "dict1.keys()"
   ]
  },
  {
   "cell_type": "code",
   "execution_count": 20,
   "id": "faff5913-39f4-4248-a74a-14c7849e1c52",
   "metadata": {
    "tags": []
   },
   "outputs": [
    {
     "data": {
      "text/plain": [
       "dict_values(['Cricket', ['India', 'Australia', 'England', 'South Africa', 'Sri Lanka', 'New Zealand']])"
      ]
     },
     "execution_count": 20,
     "metadata": {},
     "output_type": "execute_result"
    }
   ],
   "source": [
    "dict1.values()"
   ]
  },
  {
   "cell_type": "code",
   "execution_count": 21,
   "id": "f9a23f79-5342-4f7a-83f8-e64f7d62be9f",
   "metadata": {},
   "outputs": [
    {
     "data": {
      "text/plain": [
       "dict_items([('Sport', 'Cricket'), ('Teams', ['India', 'Australia', 'England', 'South Africa', 'Sri Lanka', 'New Zealand'])])"
      ]
     },
     "execution_count": 21,
     "metadata": {},
     "output_type": "execute_result"
    }
   ],
   "source": [
    "dict1.items()"
   ]
  }
 ],
 "metadata": {
  "kernelspec": {
   "display_name": "Python 3 (ipykernel)",
   "language": "python",
   "name": "python3"
  },
  "language_info": {
   "codemirror_mode": {
    "name": "ipython",
    "version": 3
   },
   "file_extension": ".py",
   "mimetype": "text/x-python",
   "name": "python",
   "nbconvert_exporter": "python",
   "pygments_lexer": "ipython3",
   "version": "3.9.13"
  }
 },
 "nbformat": 4,
 "nbformat_minor": 5
}
